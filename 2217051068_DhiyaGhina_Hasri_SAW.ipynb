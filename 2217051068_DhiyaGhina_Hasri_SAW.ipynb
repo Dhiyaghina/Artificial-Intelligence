{
  "nbformat": 4,
  "nbformat_minor": 0,
  "metadata": {
    "colab": {
      "provenance": [],
      "authorship_tag": "ABX9TyPbSbJc/tdxYwHGNce3Y4oS",
      "include_colab_link": true
    },
    "kernelspec": {
      "name": "python3",
      "display_name": "Python 3"
    },
    "language_info": {
      "name": "python"
    }
  },
  "cells": [
    {
      "cell_type": "markdown",
      "metadata": {
        "id": "view-in-github",
        "colab_type": "text"
      },
      "source": [
        "<a href=\"https://colab.research.google.com/github/Dhiyaghina/Artificial-Intelligence/blob/main/2217051068_DhiyaGhina_Hasri_SAW.ipynb\" target=\"_parent\"><img src=\"https://colab.research.google.com/assets/colab-badge.svg\" alt=\"Open In Colab\"/></a>"
      ]
    },
    {
      "cell_type": "markdown",
      "source": [
        "##Tugas AI\n",
        "*   Nama : Dhiya Ghina Hasri\n",
        "*   NPM : 2217051068 Kelas : A\n",
        "*   Kelas : A\n"
      ],
      "metadata": {
        "id": "kazAP2cSq-oi"
      }
    },
    {
      "cell_type": "markdown",
      "source": [
        "#Studi Kasus"
      ],
      "metadata": {
        "id": "3IEJXoIRq7fM"
      }
    },
    {
      "cell_type": "markdown",
      "source": [
        "Perusahaan Michi ingin memilih pemasok terbaik untuk bahan baku produksinya. Terdapat tiga kriteria yang dipertimbangkan:\n",
        "\n",
        "    Harga (C1) - bobot 0.5\n",
        "    Kualitas (C2) - bobot 0.3\n",
        "    Waktu Pengiriman (C3) - bobot 0.2\n",
        "\n",
        "Ada empat pemasok yang menjadi kandidat:\n",
        "\n",
        "    Pemasok A: Harga = 100, Kualitas = 80, Waktu Pengiriman = 5\n",
        "    Pemasok B: Harga = 90, Kualitas = 85, Waktu Pengiriman = 7\n",
        "    Pemasok C: Harga = 95, Kualitas = 90, Waktu Pengiriman = 4\n",
        "    Pemasok D: Harga = 110, Kualitas = 75, Waktu Pengiriman = 6\n",
        "\n",
        "Di sini kita akan mengunakan metode Simple Additive Weighting (SAW) untuk menentukan pemasok terbaik."
      ],
      "metadata": {
        "id": "l16IUL-clEdc"
      }
    },
    {
      "cell_type": "markdown",
      "source": [
        "#Library"
      ],
      "metadata": {
        "id": "Ep1TfBhgmT1t"
      }
    },
    {
      "cell_type": "code",
      "source": [
        "import numpy as np\n",
        "import pandas as pd"
      ],
      "metadata": {
        "id": "WSvMmTommaV9"
      },
      "execution_count": null,
      "outputs": []
    },
    {
      "cell_type": "markdown",
      "source": [
        "#Memasukkan Data Pemasok"
      ],
      "metadata": {
        "id": "-fA2Cy1EmjrA"
      }
    },
    {
      "cell_type": "code",
      "source": [
        "suppliers = {\n",
        "    'A': [100, 80, 5],\n",
        "    'B': [90, 85, 7],\n",
        "    'C': [95, 90, 4],\n",
        "    'D': [110, 75, 6]\n",
        "}"
      ],
      "metadata": {
        "id": "y04yigUdmvW5"
      },
      "execution_count": null,
      "outputs": []
    },
    {
      "cell_type": "code",
      "source": [
        "# Bobot untuk setiap kriteria\n",
        "weights = [0.5, 0.3, 0.2]"
      ],
      "metadata": {
        "id": "NsxlUbgsm1rh"
      },
      "execution_count": null,
      "outputs": []
    },
    {
      "cell_type": "code",
      "source": [
        "# Menentukan jenis kriteria (1: benefit, -1: cost)\n",
        "criteria_types = [-1, 1, -1]"
      ],
      "metadata": {
        "id": "B7sUfT4Nm5lQ"
      },
      "execution_count": null,
      "outputs": []
    },
    {
      "cell_type": "code",
      "source": [
        "df=pd.DataFrame(suppliers)"
      ],
      "metadata": {
        "id": "AGNUFzLFqLhO"
      },
      "execution_count": null,
      "outputs": []
    },
    {
      "cell_type": "code",
      "source": [
        "print(df.info())"
      ],
      "metadata": {
        "colab": {
          "base_uri": "https://localhost:8080/"
        },
        "id": "GB-2ci5Fp-Oe",
        "outputId": "ae0c1dd3-a272-42a9-cbed-e8a7ae6be6af"
      },
      "execution_count": null,
      "outputs": [
        {
          "output_type": "stream",
          "name": "stdout",
          "text": [
            "<class 'pandas.core.frame.DataFrame'>\n",
            "RangeIndex: 3 entries, 0 to 2\n",
            "Data columns (total 4 columns):\n",
            " #   Column  Non-Null Count  Dtype\n",
            "---  ------  --------------  -----\n",
            " 0   A       3 non-null      int64\n",
            " 1   B       3 non-null      int64\n",
            " 2   C       3 non-null      int64\n",
            " 3   D       3 non-null      int64\n",
            "dtypes: int64(4)\n",
            "memory usage: 224.0 bytes\n",
            "None\n"
          ]
        }
      ]
    },
    {
      "cell_type": "code",
      "source": [
        "print(df.info())"
      ],
      "metadata": {
        "colab": {
          "base_uri": "https://localhost:8080/"
        },
        "id": "hqZevWcWqXC3",
        "outputId": "608a1c0c-1138-47c0-d3b0-2f0634e854ab"
      },
      "execution_count": null,
      "outputs": [
        {
          "output_type": "stream",
          "name": "stdout",
          "text": [
            "<class 'pandas.core.frame.DataFrame'>\n",
            "RangeIndex: 3 entries, 0 to 2\n",
            "Data columns (total 4 columns):\n",
            " #   Column  Non-Null Count  Dtype\n",
            "---  ------  --------------  -----\n",
            " 0   A       3 non-null      int64\n",
            " 1   B       3 non-null      int64\n",
            " 2   C       3 non-null      int64\n",
            " 3   D       3 non-null      int64\n",
            "dtypes: int64(4)\n",
            "memory usage: 224.0 bytes\n",
            "None\n"
          ]
        }
      ]
    },
    {
      "cell_type": "code",
      "source": [
        "print(df.describe())"
      ],
      "metadata": {
        "colab": {
          "base_uri": "https://localhost:8080/"
        },
        "id": "E6RaE-pyqa5o",
        "outputId": "d2861b30-b7e9-4f5e-8927-b34ee8d0cb48"
      },
      "execution_count": null,
      "outputs": [
        {
          "output_type": "stream",
          "name": "stdout",
          "text": [
            "                A          B          C           D\n",
            "count    3.000000   3.000000   3.000000    3.000000\n",
            "mean    61.666667  60.666667  63.000000   63.666667\n",
            "std     50.083264  46.543886  51.156622   52.918176\n",
            "min      5.000000   7.000000   4.000000    6.000000\n",
            "25%     42.500000  46.000000  47.000000   40.500000\n",
            "50%     80.000000  85.000000  90.000000   75.000000\n",
            "75%     90.000000  87.500000  92.500000   92.500000\n",
            "max    100.000000  90.000000  95.000000  110.000000\n"
          ]
        }
      ]
    },
    {
      "cell_type": "markdown",
      "source": [
        "#Normalisasi"
      ],
      "metadata": {
        "id": "c2A2OkGPnAJl"
      }
    },
    {
      "cell_type": "code",
      "source": [
        "def normalize_matrix(suppliers, criteria_types):\n",
        "    data = np.array(list(suppliers.values()), dtype=float)\n",
        "    normalized_data = np.zeros(data.shape)\n",
        "\n",
        "    for j in range(data.shape[1]):\n",
        "        if criteria_types[j] == 1:  # benefit criteria\n",
        "            normalized_data[:, j] = data[:, j] / np.max(data[:, j])\n",
        "        else:  # cost criteria\n",
        "            normalized_data[:, j] = np.min(data[:, j]) / data[:, j]\n",
        "\n",
        "    return normalized_data"
      ],
      "metadata": {
        "id": "rKFqJ6yBnEZ9"
      },
      "execution_count": null,
      "outputs": []
    },
    {
      "cell_type": "markdown",
      "source": [
        "#Menghitung skor SAW"
      ],
      "metadata": {
        "id": "hz8vkAE_nO4F"
      }
    },
    {
      "cell_type": "code",
      "source": [
        "def calculate_saw(normalized_data, weights):\n",
        "    return np.dot(normalized_data, weights)"
      ],
      "metadata": {
        "id": "7sy32d-JnKtc"
      },
      "execution_count": null,
      "outputs": []
    },
    {
      "cell_type": "code",
      "source": [
        "# Normalisasi data\n",
        "normalized_data = normalize_matrix(suppliers, criteria_types)"
      ],
      "metadata": {
        "id": "eqspjAu4ngXI"
      },
      "execution_count": null,
      "outputs": []
    },
    {
      "cell_type": "code",
      "source": [
        "# Menghitung skor SAW untuk setiap pemasok\n",
        "scores = calculate_saw(normalized_data, weights)"
      ],
      "metadata": {
        "id": "jr36WAjGnsvO"
      },
      "execution_count": null,
      "outputs": []
    },
    {
      "cell_type": "markdown",
      "source": [
        "#Hasil"
      ],
      "metadata": {
        "id": "Ans--JtLnw6Y"
      }
    },
    {
      "cell_type": "code",
      "source": [
        "# Menampilkan hasil\n",
        "supplier_names = list(suppliers.keys())\n",
        "result = dict(zip(supplier_names, scores))\n",
        "\n",
        "best_supplier = max(result, key=result.get)\n",
        "\n",
        "print(\"Skor setiap pemasok:\", result)\n",
        "print(\"Pemasok terbaik yang akan dipilih adalah pemasok:\", best_supplier)"
      ],
      "metadata": {
        "colab": {
          "base_uri": "https://localhost:8080/"
        },
        "id": "Js5dr3penzio",
        "outputId": "1cb96318-521b-42ab-f266-c8892c860e6f"
      },
      "execution_count": null,
      "outputs": [
        {
          "output_type": "stream",
          "name": "stdout",
          "text": [
            "Skor setiap pemasok: {'A': 0.8766666666666667, 'B': 0.8976190476190476, 'C': 0.9736842105263157, 'D': 0.7924242424242425}\n",
            "Pemasok terbaik yang akan dipilih adalah pemasok: C\n"
          ]
        }
      ]
    },
    {
      "cell_type": "markdown",
      "source": [
        "Dengan metode SAW ini kita menemukan bahwa pemasok C adalah pemasok yang memiliki skor terbaik. Artinya pemasok C memiliki harga, kualitas dan waktu pengiriman dengan bobot terbaik diantara pemasok yang lain."
      ],
      "metadata": {
        "id": "HpdvCsvXoSnc"
      }
    }
  ]
}