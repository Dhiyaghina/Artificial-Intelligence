{
  "nbformat": 4,
  "nbformat_minor": 0,
  "metadata": {
    "colab": {
      "provenance": [],
      "include_colab_link": true
    },
    "kernelspec": {
      "name": "python3",
      "display_name": "Python 3"
    },
    "language_info": {
      "name": "python"
    }
  },
  "cells": [
    {
      "cell_type": "markdown",
      "metadata": {
        "id": "view-in-github",
        "colab_type": "text"
      },
      "source": [
        "<a href=\"https://colab.research.google.com/github/Dhiyaghina/Artificial-Intelligence/blob/main/Dhiya_Ghina_Hasri_2217051068_A_UAPResponsiAI.ipynb\" target=\"_parent\"><img src=\"https://colab.research.google.com/assets/colab-badge.svg\" alt=\"Open In Colab\"/></a>"
      ]
    },
    {
      "cell_type": "markdown",
      "source": [
        "Soal no 4 (Menentukan Metode Pengembangan Proyek TI)\n",
        "\n",
        "Anda adalah seorang anggota tim dalam sebuah proyek pengembangan\n",
        "sistem, saat ini tim anda sedang berdiskusi untuk menentukan metode\n",
        "pengembangan proyek TI yang paling efektif untuk proyek tersebut.\n",
        "Menggunakan metode AHP, bantu tim anda untuk menentukan metode\n",
        "pengembangan proyek yang akan dinilai efektif. Gunakan kriteria dan\n",
        "macam-macam metode yang disepakati oleh tim anda."
      ],
      "metadata": {
        "id": "IxJBwSRPEWrX"
      }
    },
    {
      "cell_type": "markdown",
      "source": [
        "**Terdapat** 5 Kriteria :\n",
        "\n",
        "    K1: Fleksibilitas\n",
        "    K2: Kecepatan\n",
        "    K3: Biaya\n",
        "    K4: Kualitas\n",
        "    K5: Skalabilitas"
      ],
      "metadata": {
        "id": "m0p2H3MtIdKv"
      }
    },
    {
      "cell_type": "markdown",
      "source": [
        "Terdapat 5 Alternatif :\n",
        "    \n",
        "    A1: Waterfall\n",
        "    A2: Agile\n",
        "    A3: Scrum\n",
        "    A4: DevOps\n",
        "    A5: Kanban"
      ],
      "metadata": {
        "id": "A0GZJb7HIkE_"
      }
    },
    {
      "cell_type": "code",
      "source": [
        "import numpy as np"
      ],
      "metadata": {
        "id": "BMUd57SqHGtJ"
      },
      "execution_count": null,
      "outputs": []
    },
    {
      "cell_type": "code",
      "source": [
        "# Matriks Perbandingan Berpasangan untuk Kriteria\n",
        "criteria_matrix = np.array([\n",
        "    [1, 3, 5, 2, 4],\n",
        "    [1/3, 1, 2, 1/2, 3],\n",
        "    [1/5, 1/2, 1, 1/3, 2],\n",
        "    [1/2, 2, 3, 1, 2],\n",
        "    [1/4, 1/3, 1/2, 1/2, 1]\n",
        "])"
      ],
      "metadata": {
        "id": "RRzjIzuhHLF_"
      },
      "execution_count": null,
      "outputs": []
    },
    {
      "cell_type": "code",
      "source": [
        "# Normalisasi matriks kriteria dan hitung bobot\n",
        "criteria_normalized = criteria_matrix / criteria_matrix.sum(axis=0)\n",
        "criteria_weights = criteria_normalized.mean(axis=1)\n",
        "\n",
        "print(\"Bobot Prioritas Kriteria:\", criteria_weights)"
      ],
      "metadata": {
        "colab": {
          "base_uri": "https://localhost:8080/"
        },
        "id": "42L1jPQAHN-q",
        "outputId": "9295ecd8-7032-49e4-db7d-dbf049f1abaa"
      },
      "execution_count": null,
      "outputs": [
        {
          "output_type": "stream",
          "name": "stdout",
          "text": [
            "Bobot Prioritas Kriteria: [0.421327   0.1663249  0.09826165 0.2339933  0.08009315]\n"
          ]
        }
      ]
    },
    {
      "cell_type": "code",
      "source": [
        "alternatives_matrix_k1 = np.array([\n",
        "    [1, 1/3, 1/5, 1/7, 1/6],\n",
        "    [3, 1, 1/2, 1/3, 1/2],\n",
        "    [5, 2, 1, 1/2, 1],\n",
        "    [7, 3, 2, 1, 3],\n",
        "    [6, 2, 1, 1/3, 1]\n",
        "])"
      ],
      "metadata": {
        "id": "1AOMYhPDHUGT"
      },
      "execution_count": null,
      "outputs": []
    },
    {
      "cell_type": "code",
      "source": [
        "# Normalisasi matriks alternatif K1 dan hitung bobot\n",
        "alternatives_normalized_k1 = alternatives_matrix_k1 / alternatives_matrix_k1.sum(axis=0)\n",
        "alternatives_weights_k1 = alternatives_normalized_k1.mean(axis=1)\n",
        "\n",
        "print(\"Bobot Prioritas Alternatif untuk Kriteria Fleksibilitas:\", alternatives_weights_k1)\n"
      ],
      "metadata": {
        "colab": {
          "base_uri": "https://localhost:8080/"
        },
        "id": "rFmbye67HXFE",
        "outputId": "340ead32-8d74-45ea-e3aa-b6a4e67f2be8"
      },
      "execution_count": null,
      "outputs": [
        {
          "output_type": "stream",
          "name": "stdout",
          "text": [
            "Bobot Prioritas Alternatif untuk Kriteria Fleksibilitas: [0.04385503 0.11906236 0.21460082 0.41322304 0.20925874]\n"
          ]
        }
      ]
    },
    {
      "cell_type": "code",
      "source": [
        "# Matriks Perbandingan Berpasangan untuk Alternatif terhadap Kriteria Kecepatan (K2)\n",
        "alternatives_matrix_k2 = np.array([\n",
        "    [1, 2, 1/2, 1/3, 1/4],\n",
        "    [1/2, 1, 1/3, 1/5, 1/6],\n",
        "    [2, 3, 1, 1/2, 1/3],\n",
        "    [3, 5, 2, 1, 1/2],\n",
        "    [4, 6, 3, 2, 1]\n",
        "])"
      ],
      "metadata": {
        "id": "V81hRQvEHby0"
      },
      "execution_count": null,
      "outputs": []
    },
    {
      "cell_type": "code",
      "source": [
        "# Normalisasi matriks alternatif K2 dan hitung bobot\n",
        "alternatives_normalized_k2 = alternatives_matrix_k2 / alternatives_matrix_k2.sum(axis=0)\n",
        "alternatives_weights_k2 = alternatives_normalized_k2.mean(axis=1)\n",
        "\n",
        "print(\"Bobot Prioritas Alternatif untuk Kriteria Kecepatan:\", alternatives_weights_k2)\n"
      ],
      "metadata": {
        "colab": {
          "base_uri": "https://localhost:8080/"
        },
        "id": "3yer9beCHeI3",
        "outputId": "8fb3e08e-d543-4afb-95c7-27b2c2081bf9"
      },
      "execution_count": null,
      "outputs": [
        {
          "output_type": "stream",
          "name": "stdout",
          "text": [
            "Bobot Prioritas Alternatif untuk Kriteria Kecepatan: [0.09596232 0.05577678 0.15708067 0.26853419 0.42264603]\n"
          ]
        }
      ]
    },
    {
      "cell_type": "code",
      "source": [
        "# Matriks Perbandingan Berpasangan untuk Alternatif terhadap Kriteria Biaya (K3)\n",
        "alternatives_matrix_k3 = np.array([\n",
        "    [1, 1/3, 1/2, 1/2, 1/4],\n",
        "    [3, 1, 2, 2, 1/2],\n",
        "    [2, 1/2, 1, 1, 1/3],\n",
        "    [2, 1/2, 1, 1, 1/3],\n",
        "    [4, 2, 3, 3, 1]\n",
        "])"
      ],
      "metadata": {
        "id": "Ls3Idv_sHiqb"
      },
      "execution_count": null,
      "outputs": []
    },
    {
      "cell_type": "code",
      "source": [
        "# Normalisasi matriks alternatif K3 dan hitung bobot\n",
        "alternatives_normalized_k3 = alternatives_matrix_k3 / alternatives_matrix_k3.sum(axis=0)\n",
        "alternatives_weights_k3 = alternatives_normalized_k3.mean(axis=1)\n",
        "\n",
        "print(\"Bobot Prioritas Alternatif untuk Kriteria Biaya:\", alternatives_weights_k3)"
      ],
      "metadata": {
        "colab": {
          "base_uri": "https://localhost:8080/"
        },
        "id": "MRuWPvkIHly0",
        "outputId": "a820372c-6907-47ed-f30a-b92dd8d6b3fa"
      },
      "execution_count": null,
      "outputs": [
        {
          "output_type": "stream",
          "name": "stdout",
          "text": [
            "Bobot Prioritas Alternatif untuk Kriteria Biaya: [0.0794076  0.24419982 0.1373298  0.1373298  0.40173298]\n"
          ]
        }
      ]
    },
    {
      "cell_type": "code",
      "source": [
        "# Matriks Perbandingan Berpasangan untuk Alternatif terhadap Kriteria Kualitas (K4)\n",
        "alternatives_matrix_k4 = np.array([\n",
        "    [1, 1/3, 1/2, 1/2, 1/4],\n",
        "    [3, 1, 2, 2, 1/2],\n",
        "    [2, 1/2, 1, 1, 1/3],\n",
        "    [2, 1/2, 1, 1, 1/3],\n",
        "    [4, 2, 3, 3, 1]\n",
        "])"
      ],
      "metadata": {
        "id": "fmwaxWWMHoJw"
      },
      "execution_count": null,
      "outputs": []
    },
    {
      "cell_type": "code",
      "source": [
        "# Normalisasi matriks alternatif K4 dan hitung bobot\n",
        "alternatives_normalized_k4 = alternatives_matrix_k4 / alternatives_matrix_k4.sum(axis=0)\n",
        "alternatives_weights_k4 = alternatives_normalized_k4.mean(axis=1)\n",
        "\n",
        "print(\"Bobot Prioritas Alternatif untuk Kriteria Kualitas:\", alternatives_weights_k4)\n"
      ],
      "metadata": {
        "colab": {
          "base_uri": "https://localhost:8080/"
        },
        "id": "DU7p6fnJHqYj",
        "outputId": "50880557-616e-47e4-f7a2-54b71bfb987f"
      },
      "execution_count": null,
      "outputs": [
        {
          "output_type": "stream",
          "name": "stdout",
          "text": [
            "Bobot Prioritas Alternatif untuk Kriteria Kualitas: [0.0794076  0.24419982 0.1373298  0.1373298  0.40173298]\n"
          ]
        }
      ]
    },
    {
      "cell_type": "code",
      "source": [
        "alternatives_matrix_k5 = np.array([\n",
        "    [1, 1/3, 1/2, 1/3, 1/4],\n",
        "    [3, 1, 2, 1, 1/2],\n",
        "    [2, 1/2, 1, 1/2, 1/3],\n",
        "    [3, 1, 2, 1, 1/2],\n",
        "    [4, 2, 3, 2, 1]\n",
        "])"
      ],
      "metadata": {
        "id": "GY_17zQCKPsi"
      },
      "execution_count": null,
      "outputs": []
    },
    {
      "cell_type": "code",
      "source": [
        "# Normalisasi matriks alternatif K5 dan hitung bobot\n",
        "alternatives_normalized_k5 = alternatives_matrix_k5 / alternatives_matrix_k5.sum(axis=0)\n",
        "alternatives_weights_k5 = alternatives_normalized_k5.mean(axis=1)\n",
        "\n",
        "print(\"Bobot Prioritas Alternatif untuk Kriteria Skalabilitas:\", alternatives_weights_k5)"
      ],
      "metadata": {
        "colab": {
          "base_uri": "https://localhost:8080/"
        },
        "id": "DHwMnvRaKTTu",
        "outputId": "9e350983-5747-4403-e59b-974646227102"
      },
      "execution_count": null,
      "outputs": [
        {
          "output_type": "stream",
          "name": "stdout",
          "text": [
            "Bobot Prioritas Alternatif untuk Kriteria Skalabilitas: [0.07409037 0.21468097 0.1214844  0.21468097 0.37506329]\n"
          ]
        }
      ]
    },
    {
      "cell_type": "code",
      "source": [
        "# Menggabungkan Skor Prioritas untuk Mendapatkan Skor Akhir\n",
        "final_scores = (\n",
        "    criteria_weights[0] * alternatives_weights_k1 +\n",
        "    criteria_weights[1] * alternatives_weights_k2 +\n",
        "    criteria_weights[2] * alternatives_weights_k3 +\n",
        "    criteria_weights[3] * alternatives_weights_k4 +\n",
        "    criteria_weights[4] * alternatives_weights_k5\n",
        ")\n",
        "\n",
        "print(\"Skor Akhir untuk Setiap Alternatif:\", final_scores)"
      ],
      "metadata": {
        "colab": {
          "base_uri": "https://localhost:8080/"
        },
        "id": "qnUphWOrHsk_",
        "outputId": "e4674f2e-ba58-4d06-f20e-ced5e8890cdf"
      },
      "execution_count": null,
      "outputs": [
        {
          "output_type": "stream",
          "name": "stdout",
          "text": [
            "Skor Akhir untuk Setiap Alternatif: [0.06675593 0.15777233 0.17190212 0.28158893 0.32198069]\n"
          ]
        }
      ]
    },
    {
      "cell_type": "code",
      "source": [
        "# Menentukan alternatif terbaik\n",
        "alternatives = [\"Waterfall\", \"Agile\", \"Scrum\", \"DevOps\", \"Kanban\"]\n",
        "best_alternative_index = np.argmax(final_scores)\n",
        "best_alternative = alternatives[best_alternative_index]\n",
        "\n",
        "print(\"Metode Pengembangan Proyek yang Dipilih:\", best_alternative)"
      ],
      "metadata": {
        "colab": {
          "base_uri": "https://localhost:8080/"
        },
        "id": "DalvYLnRHvEK",
        "outputId": "d46249a3-30ae-402c-e66d-2f763e343bff"
      },
      "execution_count": null,
      "outputs": [
        {
          "output_type": "stream",
          "name": "stdout",
          "text": [
            "Metode Pengembangan Proyek yang Dipilih: Kanban\n"
          ]
        }
      ]
    }
  ]
}